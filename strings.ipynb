{
 "cells": [
  {
   "cell_type": "markdown",
   "id": "a8b40f84",
   "metadata": {},
   "source": [
    "# strings in python"
   ]
  },
  {
   "cell_type": "markdown",
   "id": "272d2819",
   "metadata": {},
   "source": [
    "1.)Take the following Python code that stores a string: str = 'X-DSPAM-Confidence:0.8475' Use find and string slicing to extract the portion of the string after the colon character and then use the float function to convert the extracted string into a floating point number"
   ]
  },
  {
   "cell_type": "code",
   "execution_count": 7,
   "id": "31792de3",
   "metadata": {},
   "outputs": [
    {
     "data": {
      "text/plain": [
       "0.8475"
      ]
     },
     "execution_count": 7,
     "metadata": {},
     "output_type": "execute_result"
    }
   ],
   "source": [
    "str = 'X-DSPAM-Confidence:0.8475'\n",
    "value_str=str.find(\":\")\n",
    "values=str[value_str+1:]\n",
    "output=float(values)\n",
    "output\n"
   ]
  },
  {
   "cell_type": "markdown",
   "id": "43f22088",
   "metadata": {},
   "source": [
    "2.Write an invocation that counts the number of times the letter a occurs\n",
    "in “banana"
   ]
  },
  {
   "cell_type": "code",
   "execution_count": 10,
   "id": "3fbcd10e",
   "metadata": {},
   "outputs": [
    {
     "name": "stdout",
     "output_type": "stream",
     "text": [
      "3\n"
     ]
    }
   ],
   "source": [
    "fruit=\"banana\"\n",
    "count=0\n",
    "for value in fruit:\n",
    "    if value==\"a\":\n",
    "        count=count+1\n",
    "print(count)"
   ]
  },
  {
   "cell_type": "code",
   "execution_count": null,
   "id": "b3d3f449",
   "metadata": {},
   "outputs": [],
   "source": []
  }
 ],
 "metadata": {
  "kernelspec": {
   "display_name": "Python 3 (ipykernel)",
   "language": "python",
   "name": "python3"
  },
  "language_info": {
   "codemirror_mode": {
    "name": "ipython",
    "version": 3
   },
   "file_extension": ".py",
   "mimetype": "text/x-python",
   "name": "python",
   "nbconvert_exporter": "python",
   "pygments_lexer": "ipython3",
   "version": "3.9.7"
  }
 },
 "nbformat": 4,
 "nbformat_minor": 5
}
